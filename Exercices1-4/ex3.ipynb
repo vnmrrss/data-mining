{
 "cells": [
  {
   "cell_type": "code",
   "execution_count": 1,
   "metadata": {},
   "outputs": [
    {
     "name": "stdout",
     "output_type": "stream",
     "text": [
      "Accuracy: 0.9298245614035088\n",
      "Confusion Matrix:\n",
      "[[ 56   7]\n",
      " [  5 103]]\n",
      "Selected Features: [np.str_('mean concave points'), np.str_('radius error'), np.str_('worst concavity'), np.str_('worst concave points'), np.str_('worst symmetry')]\n"
     ]
    }
   ],
   "source": [
    "import pandas as pd\n",
    "from sklearn.datasets import load_breast_cancer\n",
    "from sklearn.model_selection import train_test_split\n",
    "from sklearn.feature_selection import RFE\n",
    "from sklearn.svm import SVC\n",
    "from sklearn.metrics import accuracy_score, confusion_matrix\n",
    "\n",
    "cancer = load_breast_cancer()\n",
    "X = cancer.data  \n",
    "y = cancer.target  \n",
    "\n",
    "X_train, X_test, y_train, y_test = train_test_split(X, y, test_size=0.3, random_state=42)\n",
    "\n",
    "svm_clf = SVC(kernel='linear', random_state=42)\n",
    "\n",
    "rfe = RFE(estimator=svm_clf, n_features_to_select=5)\n",
    "rfe.fit(X_train, y_train)\n",
    "\n",
    "X_train_rfe = rfe.transform(X_train)\n",
    "X_test_rfe = rfe.transform(X_test)\n",
    "\n",
    "svm_clf.fit(X_train_rfe, y_train)\n",
    "\n",
    "y_pred = svm_clf.predict(X_test_rfe)\n",
    "\n",
    "accuracy = accuracy_score(y_test, y_pred)\n",
    "conf_matrix = confusion_matrix(y_test, y_pred)\n",
    "\n",
    "print(f\"Accuracy: {accuracy}\")\n",
    "print(\"Confusion Matrix:\")\n",
    "print(conf_matrix)\n",
    "\n",
    "selected_features = rfe.support_\n",
    "feature_names = cancer.feature_names\n",
    "selected_feature_names = [feature_names[i] for i in range(len(selected_features)) if selected_features[i]]\n",
    "\n",
    "print(\"Selected Features:\", selected_feature_names)\n"
   ]
  },
  {
   "cell_type": "code",
   "execution_count": null,
   "metadata": {},
   "outputs": [],
   "source": []
  }
 ],
 "metadata": {
  "kernelspec": {
   "display_name": "Python 3 (ipykernel)",
   "language": "python",
   "name": "python3"
  },
  "language_info": {
   "codemirror_mode": {
    "name": "ipython",
    "version": 3
   },
   "file_extension": ".py",
   "mimetype": "text/x-python",
   "name": "python",
   "nbconvert_exporter": "python",
   "pygments_lexer": "ipython3",
   "version": "3.12.4"
  }
 },
 "nbformat": 4,
 "nbformat_minor": 4
}
