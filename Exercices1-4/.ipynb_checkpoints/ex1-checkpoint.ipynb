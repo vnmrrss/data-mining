{
 "cells": [
  {
   "cell_type": "code",
   "execution_count": null,
   "metadata": {},
   "outputs": [],
   "source": [
    "import pandas as pd\n",
    "from sklearn.datasets import load_iris\n",
    "from sklearn.feature_selection import SelectKBest, chi2\n",
    "\n",
    "iris = load_iris()\n",
    "X = iris.data  \n",
    "y = iris.target  \n",
    "\n",
    "k_best = SelectKBest(score_func=chi2, k=2)\n",
    "\n",
    "X_new = k_best.fit_transform(X, y)\n",
    "\n",
    "selected_indices = k_best.get_support(indices=True)\n",
    "\n",
    "feature_names = iris.feature_names\n",
    "selected_features = [feature_names[i] for i in selected_indices]\n",
    "\n",
    "print(\"Selected feature names:\", selected_features)\n"
   ]
  }
 ],
 "metadata": {
  "language_info": {
   "name": "python"
  }
 },
 "nbformat": 4,
 "nbformat_minor": 2
}
